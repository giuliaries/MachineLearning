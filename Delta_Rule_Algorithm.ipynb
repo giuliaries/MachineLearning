{
  "nbformat": 4,
  "nbformat_minor": 0,
  "metadata": {
    "colab": {
      "name": "Delta-Rule-Algorithm.ipynb",
      "provenance": [],
      "collapsed_sections": [],
      "authorship_tag": "ABX9TyMgC3UAXSicIkNtfEtfj108",
      "include_colab_link": true
    },
    "kernelspec": {
      "name": "python3",
      "display_name": "Python 3"
    },
    "language_info": {
      "name": "python"
    }
  },
  "cells": [
    {
      "cell_type": "markdown",
      "metadata": {
        "id": "view-in-github",
        "colab_type": "text"
      },
      "source": [
        "<a href=\"https://colab.research.google.com/github/giuliaries/MachineLearning/blob/main/Delta_Rule_Algorithm.ipynb\" target=\"_parent\"><img src=\"https://colab.research.google.com/assets/colab-badge.svg\" alt=\"Open In Colab\"/></a>"
      ]
    },
    {
      "cell_type": "markdown",
      "metadata": {
        "id": "ZKhVGhttEUk6"
      },
      "source": [
        "[Giulia Santoiemma](mailto:giulia.santoiemma@studenti.unipd.it) 2004775<br/>\n",
        "Machine Learning<br/> \n",
        "Master Degree in Computer Science<br/>\n",
        "29 October 2021"
      ]
    },
    {
      "cell_type": "code",
      "metadata": {
        "id": "ZiTHsJGBmN7P"
      },
      "source": [
        "# Import libraries\n",
        "from sklearn.datasets import make_classification\n",
        "\n",
        "import numpy as np\n",
        "import pandas as pd\n",
        "import matplotlib.pyplot as plt\n",
        "\n",
        "# Global variables\n",
        "eta = 0.1 # learning rate\n",
        "epochs = 1000 # number of iteration done by the algorithm\n",
        "points_number = 100"
      ],
      "execution_count": null,
      "outputs": []
    },
    {
      "cell_type": "code",
      "metadata": {
        "id": "KrBki0BzlTHa"
      },
      "source": [
        "# Delta Rule Implementation\n",
        "# x: m*n matrix containing m n-dimension example, one in each row\n",
        "# y: vector of the target values\n",
        "# sigmoid: if True, compute the gradient with the sigmoid activation, otherwise with linear activation\n",
        "def gradient_descent(x, y, sigmoid = True):\n",
        "  e, mse = 0, 0\n",
        "  rows, cols = x.shape\n",
        "    \n",
        "  # Initialize the value of the weights w randomly\n",
        "  w = np.random.rand(cols, 1)\n",
        "    \n",
        "  while  e < epochs and mse < float('+inf'):\n",
        "    delta_w = np.zeros((cols, 1))\n",
        "    for i in range(rows):\n",
        "        x_i = x[i,:].reshape(-1, 1) # i-th rows of the training set\n",
        "        t = y[i] # current classification\n",
        "        \n",
        "        # Learning Step\n",
        "        o = np.dot(x_i.T, w)\n",
        "        sigm = 1 / (1 + np.exp(-o))\n",
        "        multiplier = sigm * (1 - sigm) if sigmoid else 1\n",
        "        # multiplier = 1 / (1 + np.exp(-o)) if sigmoid else 1\n",
        "        delta_w += eta / rows * (t - o) * multiplier * x_i\n",
        "\n",
        "    w += delta_w\n",
        "    mse = sum(y - np.dot(x, w)) ** 2 # Mean Squared Error\n",
        "    e += 1\n",
        "\n",
        "  return w"
      ],
      "execution_count": null,
      "outputs": []
    },
    {
      "cell_type": "code",
      "metadata": {
        "colab": {
          "base_uri": "https://localhost:8080/",
          "height": 671
        },
        "id": "zfiFf0zFyBqz",
        "outputId": "22dc50d7-de49-4d69-a0a8-bc9da7f77746"
      },
      "source": [
        "# Generate a linearly dataset by using sklearn.datasets.make_classification\n",
        "samples = make_classification(n_samples=points_number, n_features=2, n_redundant=0, n_informative=1, n_clusters_per_class=1, flip_y=-1)\n",
        "\n",
        "# Training Set as pd.DataFrame\n",
        "ts = pd.DataFrame(columns = [\"ones\", \"x\", \"y\", \"t\"])\n",
        "for k, i in enumerate(samples[0]):\n",
        "  ts = ts.append({\n",
        "    \"ones\": 1.0, \n",
        "    \"x\": i[0] * 10,\n",
        "    \"y\": i[1] * 10,\n",
        "    \"t\": samples[1][k] # 1 if samples[1][k] == 1 else -1\n",
        "  }, ignore_index = True)\n",
        "\n",
        "plt.plot(ts[\"x\"][ts[\"t\"] == 1], ts[\"y\"][ts[\"t\"] == 1], \".g\", label = \"positive\")\n",
        "plt.plot(ts[\"x\"][ts[\"t\"] == 0], ts[\"y\"][ts[\"t\"] == 0], \".r\", label = \"negative\")\n",
        "plt.xlim(-20, 20)\n",
        "plt.ylim(-30, 30)\n",
        "plt.legend()\n",
        "\n",
        "ts"
      ],
      "execution_count": null,
      "outputs": [
        {
          "output_type": "execute_result",
          "data": {
            "text/html": [
              "<div>\n",
              "<style scoped>\n",
              "    .dataframe tbody tr th:only-of-type {\n",
              "        vertical-align: middle;\n",
              "    }\n",
              "\n",
              "    .dataframe tbody tr th {\n",
              "        vertical-align: top;\n",
              "    }\n",
              "\n",
              "    .dataframe thead th {\n",
              "        text-align: right;\n",
              "    }\n",
              "</style>\n",
              "<table border=\"1\" class=\"dataframe\">\n",
              "  <thead>\n",
              "    <tr style=\"text-align: right;\">\n",
              "      <th></th>\n",
              "      <th>ones</th>\n",
              "      <th>x</th>\n",
              "      <th>y</th>\n",
              "      <th>t</th>\n",
              "    </tr>\n",
              "  </thead>\n",
              "  <tbody>\n",
              "    <tr>\n",
              "      <th>0</th>\n",
              "      <td>1.0</td>\n",
              "      <td>0.795834</td>\n",
              "      <td>-14.169082</td>\n",
              "      <td>0.0</td>\n",
              "    </tr>\n",
              "    <tr>\n",
              "      <th>1</th>\n",
              "      <td>1.0</td>\n",
              "      <td>-5.981789</td>\n",
              "      <td>-1.279044</td>\n",
              "      <td>1.0</td>\n",
              "    </tr>\n",
              "    <tr>\n",
              "      <th>2</th>\n",
              "      <td>1.0</td>\n",
              "      <td>14.582845</td>\n",
              "      <td>4.766122</td>\n",
              "      <td>1.0</td>\n",
              "    </tr>\n",
              "    <tr>\n",
              "      <th>3</th>\n",
              "      <td>1.0</td>\n",
              "      <td>-7.207636</td>\n",
              "      <td>11.583417</td>\n",
              "      <td>1.0</td>\n",
              "    </tr>\n",
              "    <tr>\n",
              "      <th>4</th>\n",
              "      <td>1.0</td>\n",
              "      <td>-3.716189</td>\n",
              "      <td>-14.378437</td>\n",
              "      <td>0.0</td>\n",
              "    </tr>\n",
              "    <tr>\n",
              "      <th>...</th>\n",
              "      <td>...</td>\n",
              "      <td>...</td>\n",
              "      <td>...</td>\n",
              "      <td>...</td>\n",
              "    </tr>\n",
              "    <tr>\n",
              "      <th>95</th>\n",
              "      <td>1.0</td>\n",
              "      <td>-13.234141</td>\n",
              "      <td>-17.996906</td>\n",
              "      <td>0.0</td>\n",
              "    </tr>\n",
              "    <tr>\n",
              "      <th>96</th>\n",
              "      <td>1.0</td>\n",
              "      <td>0.509567</td>\n",
              "      <td>4.980147</td>\n",
              "      <td>1.0</td>\n",
              "    </tr>\n",
              "    <tr>\n",
              "      <th>97</th>\n",
              "      <td>1.0</td>\n",
              "      <td>-7.180837</td>\n",
              "      <td>16.407647</td>\n",
              "      <td>1.0</td>\n",
              "    </tr>\n",
              "    <tr>\n",
              "      <th>98</th>\n",
              "      <td>1.0</td>\n",
              "      <td>-5.442244</td>\n",
              "      <td>-9.126401</td>\n",
              "      <td>0.0</td>\n",
              "    </tr>\n",
              "    <tr>\n",
              "      <th>99</th>\n",
              "      <td>1.0</td>\n",
              "      <td>12.492880</td>\n",
              "      <td>-7.649157</td>\n",
              "      <td>0.0</td>\n",
              "    </tr>\n",
              "  </tbody>\n",
              "</table>\n",
              "<p>100 rows × 4 columns</p>\n",
              "</div>"
            ],
            "text/plain": [
              "    ones          x          y    t\n",
              "0    1.0   0.795834 -14.169082  0.0\n",
              "1    1.0  -5.981789  -1.279044  1.0\n",
              "2    1.0  14.582845   4.766122  1.0\n",
              "3    1.0  -7.207636  11.583417  1.0\n",
              "4    1.0  -3.716189 -14.378437  0.0\n",
              "..   ...        ...        ...  ...\n",
              "95   1.0 -13.234141 -17.996906  0.0\n",
              "96   1.0   0.509567   4.980147  1.0\n",
              "97   1.0  -7.180837  16.407647  1.0\n",
              "98   1.0  -5.442244  -9.126401  0.0\n",
              "99   1.0  12.492880  -7.649157  0.0\n",
              "\n",
              "[100 rows x 4 columns]"
            ]
          },
          "metadata": {},
          "execution_count": 24
        },
        {
          "output_type": "display_data",
          "data": {
            "image/png": "[encoded data removed]",
            "text/plain": [
              "<Figure size 432x288 with 1 Axes>"
            ]
          },
          "metadata": {
            "needs_background": "light"
          }
        }
      ]
    },
    {
      "cell_type": "code",
      "metadata": {
        "colab": {
          "base_uri": "https://localhost:8080/",
          "height": 388
        },
        "id": "PzuCmWWCl_JE",
        "outputId": "d0769d70-66ca-4a33-948c-b7ed895687a9"
      },
      "source": [
        "# Linear Activation\n",
        "wv = gradient_descent(ts.to_numpy()[:, :-1], ts.to_numpy()[:, -1].reshape(-1, 1), False)\n",
        "\n",
        "plt.plot(ts[\"x\"][ts[\"t\"] == 1], ts[\"y\"][ts[\"t\"] == 1], \".g\", label = \"positive\")\n",
        "plt.plot(ts[\"x\"][ts[\"t\"] == 0], ts[\"y\"][ts[\"t\"] == 0], \".r\", label = \"negative\")\n",
        "plt.plot(np.linspace(-20, 20, 100), -(np.linspace(-20, 20, 100) * wv[1, 0] + wv[0, 0]) / wv[2, 0], \"-b\", label=\"hyperplane\")\n",
        "plt.xlim(-20, 20)\n",
        "plt.ylim(-30, 30)\n",
        "plt.legend()\n",
        "\n",
        "print(\"\\nWeight vector:\\n\", wv)"
      ],
      "execution_count": null,
      "outputs": [
        {
          "output_type": "stream",
          "name": "stderr",
          "text": [
            "/usr/local/lib/python3.7/dist-packages/ipykernel_launcher.py:20: RuntimeWarning: overflow encountered in exp\n",
            "/usr/local/lib/python3.7/dist-packages/ipykernel_launcher.py:26: RuntimeWarning: overflow encountered in square\n"
          ]
        },
        {
          "output_type": "stream",
          "name": "stdout",
          "text": [
            "\n",
            "Weight vector:\n",
            " [[-9.62124441e+150]\n",
            " [ 9.96399311e+151]\n",
            " [-7.10689760e+153]]\n"
          ]
        },
        {
          "output_type": "display_data",
          "data": {
            "image/png": "[encoded data removed]",
            "text/plain": [
              "<Figure size 432x288 with 1 Axes>"
            ]
          },
          "metadata": {
            "needs_background": "light"
          }
        }
      ]
    },
    {
      "cell_type": "code",
      "metadata": {
        "colab": {
          "base_uri": "https://localhost:8080/",
          "height": 354
        },
        "id": "1ScpVmVWEY5S",
        "outputId": "aa3c8f33-64c7-44d9-a1e6-06f3dea64e96"
      },
      "source": [
        "# Sigmoid Activation\n",
        "wv = gradient_descent(ts.to_numpy()[:, :-1], ts.to_numpy()[:, -1].reshape(-1, 1), True)\n",
        "\n",
        "plt.plot(ts[\"x\"][ts[\"t\"] == 1], ts[\"y\"][ts[\"t\"] == 1], \".g\", label = \"positive\")\n",
        "plt.plot(ts[\"x\"][ts[\"t\"] == 0], ts[\"y\"][ts[\"t\"] == 0], \".r\", label = \"negative\")\n",
        "plt.plot(np.linspace(-20, 20, 100), -(np.linspace(-20, 20, 100) * wv[1, 0] + wv[0, 0]) / wv[2, 0], \"-b\", label=\"hyperplane\")\n",
        "plt.xlim(-20, 20)\n",
        "plt.ylim(-30, 30)\n",
        "plt.legend()\n",
        "\n",
        "print(\"\\nWeight vector:\\n\", wv)"
      ],
      "execution_count": null,
      "outputs": [
        {
          "output_type": "stream",
          "name": "stdout",
          "text": [
            "\n",
            "Weight vector:\n",
            " [[ 0.67507649]\n",
            " [-0.00191152]\n",
            " [ 0.20273754]]\n"
          ]
        },
        {
          "output_type": "display_data",
          "data": {
            "image/png": "[encoded data removed]",
            "text/plain": [
              "<Figure size 432x288 with 1 Axes>"
            ]
          },
          "metadata": {
            "needs_background": "light"
          }
        }
      ]
    },
    {
      "cell_type": "markdown",
      "metadata": {
        "id": "C6phH66tG8M-"
      },
      "source": [
        "Each time we run the algorithm, it returns one of the possible hyperplanes that classify the example.\n",
        "\n",
        "The hyperplanes returned is the best-fit solution approximating the target concept: it is capable to separate the data, even if the are not linearly separable, but it does not guarantee that the solution has a null error.<br/><br/>\n",
        "\n",
        "In this code, we can change the number of the points `points_number` and the learning rate `eta`.\n",
        "\n",
        "<!--We can see that the smaller the learning rate `eta`, the better the hyperplane approaches the target.-->"
      ]
    }
  ]
}