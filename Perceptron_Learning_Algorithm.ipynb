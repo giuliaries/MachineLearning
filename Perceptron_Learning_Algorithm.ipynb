{
  "nbformat": 4,
  "nbformat_minor": 0,
  "metadata": {
    "colab": {
      "name": "Perceptron-Learning-Algorithm.ipynb",
      "provenance": [],
      "collapsed_sections": [],
      "authorship_tag": "ABX9TyMZVKfrWhVgopwEqgTAqMUQ",
      "include_colab_link": true
    },
    "kernelspec": {
      "name": "python3",
      "display_name": "Python 3"
    },
    "language_info": {
      "name": "python"
    }
  },
  "cells": [
    {
      "cell_type": "markdown",
      "metadata": {
        "id": "view-in-github",
        "colab_type": "text"
      },
      "source": [
        "<a href=\"https://colab.research.google.com/github/giuliaries/MachineLearning/blob/main/Perceptron_Learning_Algorithm.ipynb\" target=\"_parent\"><img src=\"https://colab.research.google.com/assets/colab-badge.svg\" alt=\"Open In Colab\"/></a>"
      ]
    },
    {
      "cell_type": "markdown",
      "metadata": {
        "id": "ZKhVGhttEUk6"
      },
      "source": [
        "[Giulia Santoiemma](mailto:giulia.santoiemma@studenti.unipd.it) 2004775<br/>\n",
        "Machine Learning<br/> \n",
        "Master Degree in Computer Science<br/>\n",
        "25 October 2021"
      ]
    },
    {
      "cell_type": "code",
      "metadata": {
        "id": "ZiTHsJGBmN7P"
      },
      "source": [
        "# Import libraries\n",
        "from sklearn.datasets import make_classification\n",
        "\n",
        "import numpy as np\n",
        "import pandas as pd\n",
        "import matplotlib.pyplot as plt\n",
        "\n",
        "# Global variables\n",
        "eta = 0.5 # learning rate\n",
        "points_number = 100"
      ],
      "execution_count": null,
      "outputs": []
    },
    {
      "cell_type": "code",
      "metadata": {
        "id": "KrBki0BzlTHa"
      },
      "source": [
        "# Perceptron Implementation\n",
        "# x: m*n matrix containing m n-dimension example, one in each row\n",
        "# y: vector of the target values\n",
        "def my_perceptron(x, y):\n",
        "  i, steps = 0, 0\n",
        "  rows, cols = x.shape\n",
        "\n",
        "  # Initialize the value of the weights w randomly\n",
        "  w = np.random.rand(cols, 1)\n",
        "  y1 = np.sign(np.dot(x, w))\n",
        "    \n",
        "  # the algorithm loops until the predicted values are equal to y    \n",
        "  while not np.array_equal(y1, y):\n",
        "    x_i = x[i, :].reshape(-1, 1) # i-th rows of the training set\n",
        "    t = y[i] # current classification\n",
        "        \n",
        "    # Learning Step\n",
        "    o = np.sign(np.dot(w.T, x_i))\n",
        "    if o != t:\n",
        "      w = w + eta * (t - o) * x_i\n",
        "      y1 = np.sign(np.dot(x, w))\n",
        "        \n",
        "    # the index i is increased so in the next round a different example x is selected, \n",
        "    # when it reaches m it restarts from 0\n",
        "    i = (i + 1) % rows\n",
        "    steps += 1\n",
        "    \n",
        "  print(\"Training steps: \", steps)\n",
        "  return w"
      ],
      "execution_count": null,
      "outputs": []
    },
    {
      "cell_type": "code",
      "metadata": {
        "colab": {
          "base_uri": "https://localhost:8080/",
          "height": 671
        },
        "id": "zfiFf0zFyBqz",
        "outputId": "173b6fb4-e644-4e95-e603-3d58bb8e11f5"
      },
      "source": [
        "# Generate a linearly separable dataset by using sklearn.datasets.make_classification\n",
        "# There is no \"linear separable\" option, but I reject a dataset when it's not linearly separable, generating another one.\n",
        "separable = False\n",
        "while not separable:\n",
        "  samples = make_classification(n_samples=points_number, n_features=2, n_redundant=0, n_informative=1, n_clusters_per_class=1, flip_y=-1)\n",
        "  red = samples[0][samples[1] == 0]\n",
        "  blue = samples[0][samples[1] == 1]\n",
        "  separable = any([red[:, k].max() < blue[:, k].min() or red[:, k].min() > blue[:, k].max() for k in range(2)])\n",
        "\n",
        "# Training Set as pd.DataFrame\n",
        "ts = pd.DataFrame(columns=[\"ones\", \"x\", \"y\", \"t\"])\n",
        "for k, i in enumerate(samples[0]):\n",
        "  ts = ts.append({\n",
        "    \"ones\": 1.0, \n",
        "    \"x\": i[0] * 10,\n",
        "    \"y\": i[1] * 10,\n",
        "    \"t\": 1 if samples[1][k] == 1 else -1\n",
        "  }, ignore_index = True)\n",
        "\n",
        "plt.plot(ts[\"x\"][ts[\"t\"] == 1], ts[\"y\"][ts[\"t\"] == 1], \".g\", label = \"positive\")\n",
        "plt.plot(ts[\"x\"][ts[\"t\"] == -1], ts[\"y\"][ts[\"t\"] == -1], \".r\", label = \"negative\")\n",
        "plt.xlim(-20, 20)\n",
        "plt.ylim(-30, 30)\n",
        "plt.legend()\n",
        "\n",
        "ts"
      ],
      "execution_count": null,
      "outputs": [
        {
          "output_type": "execute_result",
          "data": {
            "text/html": [
              "<div>\n",
              "<style scoped>\n",
              "    .dataframe tbody tr th:only-of-type {\n",
              "        vertical-align: middle;\n",
              "    }\n",
              "\n",
              "    .dataframe tbody tr th {\n",
              "        vertical-align: top;\n",
              "    }\n",
              "\n",
              "    .dataframe thead th {\n",
              "        text-align: right;\n",
              "    }\n",
              "</style>\n",
              "<table border=\"1\" class=\"dataframe\">\n",
              "  <thead>\n",
              "    <tr style=\"text-align: right;\">\n",
              "      <th></th>\n",
              "      <th>ones</th>\n",
              "      <th>x</th>\n",
              "      <th>y</th>\n",
              "      <th>t</th>\n",
              "    </tr>\n",
              "  </thead>\n",
              "  <tbody>\n",
              "    <tr>\n",
              "      <th>0</th>\n",
              "      <td>1.0</td>\n",
              "      <td>12.171167</td>\n",
              "      <td>-0.983138</td>\n",
              "      <td>1.0</td>\n",
              "    </tr>\n",
              "    <tr>\n",
              "      <th>1</th>\n",
              "      <td>1.0</td>\n",
              "      <td>-10.331245</td>\n",
              "      <td>-2.941819</td>\n",
              "      <td>-1.0</td>\n",
              "    </tr>\n",
              "    <tr>\n",
              "      <th>2</th>\n",
              "      <td>1.0</td>\n",
              "      <td>18.814031</td>\n",
              "      <td>16.956486</td>\n",
              "      <td>1.0</td>\n",
              "    </tr>\n",
              "    <tr>\n",
              "      <th>3</th>\n",
              "      <td>1.0</td>\n",
              "      <td>-9.946706</td>\n",
              "      <td>2.798162</td>\n",
              "      <td>-1.0</td>\n",
              "    </tr>\n",
              "    <tr>\n",
              "      <th>4</th>\n",
              "      <td>1.0</td>\n",
              "      <td>4.047379</td>\n",
              "      <td>9.847317</td>\n",
              "      <td>1.0</td>\n",
              "    </tr>\n",
              "    <tr>\n",
              "      <th>...</th>\n",
              "      <td>...</td>\n",
              "      <td>...</td>\n",
              "      <td>...</td>\n",
              "      <td>...</td>\n",
              "    </tr>\n",
              "    <tr>\n",
              "      <th>95</th>\n",
              "      <td>1.0</td>\n",
              "      <td>-11.141948</td>\n",
              "      <td>3.538088</td>\n",
              "      <td>-1.0</td>\n",
              "    </tr>\n",
              "    <tr>\n",
              "      <th>96</th>\n",
              "      <td>1.0</td>\n",
              "      <td>-9.525444</td>\n",
              "      <td>-7.534866</td>\n",
              "      <td>-1.0</td>\n",
              "    </tr>\n",
              "    <tr>\n",
              "      <th>97</th>\n",
              "      <td>1.0</td>\n",
              "      <td>8.591236</td>\n",
              "      <td>-5.007893</td>\n",
              "      <td>1.0</td>\n",
              "    </tr>\n",
              "    <tr>\n",
              "      <th>98</th>\n",
              "      <td>1.0</td>\n",
              "      <td>6.597299</td>\n",
              "      <td>6.170599</td>\n",
              "      <td>1.0</td>\n",
              "    </tr>\n",
              "    <tr>\n",
              "      <th>99</th>\n",
              "      <td>1.0</td>\n",
              "      <td>11.954973</td>\n",
              "      <td>6.127060</td>\n",
              "      <td>1.0</td>\n",
              "    </tr>\n",
              "  </tbody>\n",
              "</table>\n",
              "<p>100 rows × 4 columns</p>\n",
              "</div>"
            ],
            "text/plain": [
              "    ones          x          y    t\n",
              "0    1.0  12.171167  -0.983138  1.0\n",
              "1    1.0 -10.331245  -2.941819 -1.0\n",
              "2    1.0  18.814031  16.956486  1.0\n",
              "3    1.0  -9.946706   2.798162 -1.0\n",
              "4    1.0   4.047379   9.847317  1.0\n",
              "..   ...        ...        ...  ...\n",
              "95   1.0 -11.141948   3.538088 -1.0\n",
              "96   1.0  -9.525444  -7.534866 -1.0\n",
              "97   1.0   8.591236  -5.007893  1.0\n",
              "98   1.0   6.597299   6.170599  1.0\n",
              "99   1.0  11.954973   6.127060  1.0\n",
              "\n",
              "[100 rows x 4 columns]"
            ]
          },
          "metadata": {},
          "execution_count": 428
        },
        {
          "output_type": "display_data",
          "data": {
            "image/png": "[encoded data removed]",
            "text/plain": [
              "<Figure size 432x288 with 1 Axes>"
            ]
          },
          "metadata": {
            "needs_background": "light"
          }
        }
      ]
    },
    {
      "cell_type": "code",
      "metadata": {
        "colab": {
          "base_uri": "https://localhost:8080/",
          "height": 371
        },
        "id": "PzuCmWWCl_JE",
        "outputId": "6abbd836-4cfd-4f1b-f26e-0a947d131451"
      },
      "source": [
        "# Weight vector returned by my perceptron\n",
        "wv = my_perceptron(ts.to_numpy()[:, :-1], ts.to_numpy()[:, -1].reshape(-1, 1))\n",
        "\n",
        "plt.plot(ts[\"x\"][ts[\"t\"] == 1], ts[\"y\"][ts[\"t\"] == 1], \".g\", label = \"positive\")\n",
        "plt.plot(ts[\"x\"][ts[\"t\"] == -1], ts[\"y\"][ts[\"t\"] == -1], \".r\", label = \"negative\")\n",
        "plt.plot(np.linspace(-20, 20, 100), -(np.linspace(-20, 20, 100) * wv[1, 0] + wv[0, 0]) / wv[2, 0], \"-b\", label=\"hyperplane\")\n",
        "plt.xlim(-20, 20)\n",
        "plt.ylim(-30, 30)\n",
        "plt.legend()\n",
        "\n",
        "print(\"\\nWeight vector:\\n\", pred_w)"
      ],
      "execution_count": null,
      "outputs": [
        {
          "output_type": "stream",
          "name": "stdout",
          "text": [
            "Training steps:  4\n",
            "\n",
            "Weight vector:\n",
            " [[1.73887423e+00]\n",
            " [2.14950241e+01]\n",
            " [1.15955153e-02]]\n"
          ]
        },
        {
          "output_type": "display_data",
          "data": {
            "image/png": "[encoded data removed]",
            "text/plain": [
              "<Figure size 432x288 with 1 Axes>"
            ]
          },
          "metadata": {
            "needs_background": "light"
          }
        }
      ]
    },
    {
      "cell_type": "markdown",
      "metadata": {
        "id": "JTno-syxmGSZ"
      },
      "source": [
        "Each time we run the algorithm, it returns one of the possible hyperplanes that correctly classify the example.\n",
        "\n",
        "In this code, we can change the number of the points `points_number` and the learning rate `eta`.<br/><br/>\n",
        "\n",
        "We see that by selecting a low learning rate `eta`, then we obtain minimal variations on the weight vector `w`: at each step there is a little difference between `w` and `w1`, and the convergence of the algorithm is slow but stable.\n",
        "\n",
        "Otherwise, if we select a high learning rate `eta`, then we have large variations of the weight vector `w` and the algorithm becomes unstable. There may be a slow convergence, also in this case due to the instability of the algorithm.<br/><br/>\n",
        "\n",
        "Also, when the instances of the points (positive and negative) tend to be concentrated and spaced apart, the algorithm takes far fewer steps to arrive to the solution, so it converges more quickly.\n",
        "\n",
        "On the other hand, when the instances are close together, multiple steps are required.<br/><br/>\n",
        "\n",
        "By increasing the number of points `points_number`, these results are highlighted."
      ]
    }
  ]
}