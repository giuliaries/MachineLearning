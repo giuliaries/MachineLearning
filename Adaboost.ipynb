{
  "cells": [
    {
      "cell_type": "markdown",
      "metadata": {
        "id": "view-in-github",
        "colab_type": "text"
      },
      "source": [
        "<a href=\"https://colab.research.google.com/github/giuliaries/MachineLearning/blob/main/Adaboost.ipynb\" target=\"_parent\"><img src=\"https://colab.research.google.com/assets/colab-badge.svg\" alt=\"Open In Colab\"/></a>"
      ]
    },
    {
      "cell_type": "markdown",
      "metadata": {
        "id": "ZKhVGhttEUk6"
      },
      "source": [
        "[Giulia Santoiemma](mailto:giulia.santoiemma@studenti.unipd.it) 2004775<br/>\n",
        "Machine Learning<br/> \n",
        "Master Degree in Computer Science<br/>\n",
        "10 December 2021"
      ]
    },
    {
      "cell_type": "code",
      "execution_count": 10,
      "metadata": {
        "id": "ZiTHsJGBmN7P"
      },
      "outputs": [],
      "source": [
        "# Import libraries\n",
        "from sklearn.datasets import make_classification\n",
        "from sklearn.ensemble import AdaBoostClassifier\n",
        "from sklearn.metrics import accuracy_score, precision_score, recall_score, roc_auc_score\n",
        "from sklearn.model_selection import train_test_split\n",
        "from sklearn.svm import SVC\n",
        "from sklearn.tree import DecisionTreeClassifier\n",
        "from tabulate import tabulate\n",
        "\n",
        "import numpy as np\n",
        "import pandas as pd\n",
        "import matplotlib.pyplot as plt"
      ]
    },
    {
      "cell_type": "code",
      "execution_count": 31,
      "metadata": {
        "colab": {
          "base_uri": "https://localhost:8080/",
          "height": 676
        },
        "id": "zfiFf0zFyBqz",
        "outputId": "1e8f370b-7b12-4c8c-9db6-a45273f3b4c3"
      },
      "outputs": [
        {
          "output_type": "execute_result",
          "data": {
            "text/html": [
              "<div>\n",
              "<style scoped>\n",
              "    .dataframe tbody tr th:only-of-type {\n",
              "        vertical-align: middle;\n",
              "    }\n",
              "\n",
              "    .dataframe tbody tr th {\n",
              "        vertical-align: top;\n",
              "    }\n",
              "\n",
              "    .dataframe thead th {\n",
              "        text-align: right;\n",
              "    }\n",
              "</style>\n",
              "<table border=\"1\" class=\"dataframe\">\n",
              "  <thead>\n",
              "    <tr style=\"text-align: right;\">\n",
              "      <th></th>\n",
              "      <th>ones</th>\n",
              "      <th>x</th>\n",
              "      <th>y</th>\n",
              "      <th>t</th>\n",
              "    </tr>\n",
              "  </thead>\n",
              "  <tbody>\n",
              "    <tr>\n",
              "      <th>0</th>\n",
              "      <td>1.0</td>\n",
              "      <td>4.751114</td>\n",
              "      <td>7.238699</td>\n",
              "      <td>1.0</td>\n",
              "    </tr>\n",
              "    <tr>\n",
              "      <th>1</th>\n",
              "      <td>1.0</td>\n",
              "      <td>7.010437</td>\n",
              "      <td>-4.725234</td>\n",
              "      <td>1.0</td>\n",
              "    </tr>\n",
              "    <tr>\n",
              "      <th>2</th>\n",
              "      <td>1.0</td>\n",
              "      <td>-1.664917</td>\n",
              "      <td>8.304715</td>\n",
              "      <td>0.0</td>\n",
              "    </tr>\n",
              "    <tr>\n",
              "      <th>3</th>\n",
              "      <td>1.0</td>\n",
              "      <td>16.461247</td>\n",
              "      <td>13.952955</td>\n",
              "      <td>1.0</td>\n",
              "    </tr>\n",
              "    <tr>\n",
              "      <th>4</th>\n",
              "      <td>1.0</td>\n",
              "      <td>-20.253029</td>\n",
              "      <td>-4.153487</td>\n",
              "      <td>0.0</td>\n",
              "    </tr>\n",
              "    <tr>\n",
              "      <th>...</th>\n",
              "      <td>...</td>\n",
              "      <td>...</td>\n",
              "      <td>...</td>\n",
              "      <td>...</td>\n",
              "    </tr>\n",
              "    <tr>\n",
              "      <th>95</th>\n",
              "      <td>1.0</td>\n",
              "      <td>-19.117289</td>\n",
              "      <td>6.990317</td>\n",
              "      <td>0.0</td>\n",
              "    </tr>\n",
              "    <tr>\n",
              "      <th>96</th>\n",
              "      <td>1.0</td>\n",
              "      <td>10.251558</td>\n",
              "      <td>-5.465216</td>\n",
              "      <td>0.0</td>\n",
              "    </tr>\n",
              "    <tr>\n",
              "      <th>97</th>\n",
              "      <td>1.0</td>\n",
              "      <td>-6.261211</td>\n",
              "      <td>-15.287271</td>\n",
              "      <td>0.0</td>\n",
              "    </tr>\n",
              "    <tr>\n",
              "      <th>98</th>\n",
              "      <td>1.0</td>\n",
              "      <td>10.199092</td>\n",
              "      <td>2.354841</td>\n",
              "      <td>1.0</td>\n",
              "    </tr>\n",
              "    <tr>\n",
              "      <th>99</th>\n",
              "      <td>1.0</td>\n",
              "      <td>14.679266</td>\n",
              "      <td>8.097670</td>\n",
              "      <td>1.0</td>\n",
              "    </tr>\n",
              "  </tbody>\n",
              "</table>\n",
              "<p>100 rows × 4 columns</p>\n",
              "</div>"
            ],
            "text/plain": [
              "    ones          x          y    t\n",
              "0    1.0   4.751114   7.238699  1.0\n",
              "1    1.0   7.010437  -4.725234  1.0\n",
              "2    1.0  -1.664917   8.304715  0.0\n",
              "3    1.0  16.461247  13.952955  1.0\n",
              "4    1.0 -20.253029  -4.153487  0.0\n",
              "..   ...        ...        ...  ...\n",
              "95   1.0 -19.117289   6.990317  0.0\n",
              "96   1.0  10.251558  -5.465216  0.0\n",
              "97   1.0  -6.261211 -15.287271  0.0\n",
              "98   1.0  10.199092   2.354841  1.0\n",
              "99   1.0  14.679266   8.097670  1.0\n",
              "\n",
              "[100 rows x 4 columns]"
            ]
          },
          "metadata": {},
          "execution_count": 31
        },
        {
          "output_type": "display_data",
          "data": {
            "image/png": "[encoded data removed]",
            "text/plain": [
              "<Figure size 432x288 with 1 Axes>"
            ]
          },
          "metadata": {
            "needs_background": "light"
          }
        }
      ],
      "source": [
        "# Generate a linearly dataset by using sklearn.datasets.make_classification\n",
        "samples = make_classification(n_samples=100, n_features=2, n_redundant=0, n_informative=1, n_clusters_per_class=1, flip_y=-1)\n",
        "X = samples[0]\n",
        "y = samples[1]\n",
        "\n",
        "# Training Set as pd.DataFrame\n",
        "ts = pd.DataFrame(columns = [\"ones\", \"x\", \"y\", \"t\"])\n",
        "for k, i in enumerate(X):\n",
        "  ts = ts.append({\n",
        "    \"ones\": 1.0, \n",
        "    \"x\": i[0] * 10,\n",
        "    \"y\": i[1] * 10,\n",
        "    \"t\": y[k] # 1 if y[k] == 1 else -1\n",
        "  }, ignore_index = True)\n",
        "\n",
        "plt.plot(ts[\"x\"][ts[\"t\"] == 1], ts[\"y\"][ts[\"t\"] == 1], \".g\", label = \"positive\")\n",
        "plt.plot(ts[\"x\"][ts[\"t\"] == 0], ts[\"y\"][ts[\"t\"] == 0], \".r\", label = \"negative\")\n",
        "plt.xlim(-20, 20)\n",
        "plt.ylim(-30, 30)\n",
        "plt.legend()\n",
        "\n",
        "ts"
      ]
    },
    {
      "cell_type": "code",
      "execution_count": 32,
      "metadata": {
        "colab": {
          "base_uri": "https://localhost:8080/"
        },
        "id": "JOHeqi9l42uK",
        "outputId": "2d38ad9e-515c-4335-a142-49d19d4bcdde"
      },
      "outputs": [
        {
          "output_type": "stream",
          "name": "stdout",
          "text": [
            "===========  ==========================\n",
            "..             AdaBoosted Decision Tree\n",
            "===========  ==========================\n",
            "𝜶 Accuracy                     0.966667\n",
            "𝝅 Precision                    0.966667\n",
            "𝝆 Recall                       0.96875\n",
            "===========  ==========================\n"
          ]
        }
      ],
      "source": [
        "# Split the datasets into random train and test subsets\n",
        "X_train, X_test, y_train, y_test = train_test_split(X, y, test_size=0.3)\n",
        "\n",
        "# Create and fit an AdaBoosted decision tree\n",
        "bdt = AdaBoostClassifier(\n",
        "    DecisionTreeClassifier(max_depth=1), algorithm=\"SAMME\", n_estimators=200\n",
        ")\n",
        "\n",
        "# Fit the current model according to the given training dataset\n",
        "#bdt_model = bdt.fit(X, y)\n",
        "bdt_model = bdt.fit(X_train, y_train)\n",
        "\n",
        "# Predict the classification for the provided data (the test set)\n",
        "y_pred = bdt_model.predict(X_test)\n",
        "\n",
        "headers = [\"\", \"AdaBoosted Decision Tree\"]\n",
        "report = [[\"𝜶 Accuracy\"], [\"𝝅 Precision\"], [\"𝝆 Recall\"]]\n",
        "report[0].append(accuracy_score(y_test, y_pred))\n",
        "report[1].append(precision_score(y_test, y_pred, average=\"macro\"))\n",
        "report[2].append(recall_score(y_test, y_pred, average=\"macro\"))\n",
        "\n",
        "# Show the results for the Neural Network Classifier\n",
        "print(tabulate(report, headers=headers, tablefmt=\"rst\"))"
      ]
    },
    {
      "cell_type": "code",
      "execution_count": 33,
      "metadata": {
        "colab": {
          "base_uri": "https://localhost:8080/",
          "height": 444
        },
        "id": "HqG5VnC8wgdo",
        "outputId": "a345bf23-5196-4bcf-a831-24c752d0f3f2"
      },
      "outputs": [
        {
          "output_type": "display_data",
          "data": {
            "image/png": "[encoded data removed]",
            "text/plain": [
              "<Figure size 720x504 with 1 Axes>"
            ]
          },
          "metadata": {
            "needs_background": "light"
          }
        }
      ],
      "source": [
        "# Plot\n",
        "plot_colors = \"rg\"\n",
        "plot_step = 0.02\n",
        "class_names = [\"positive\", \"negative\"]\n",
        "\n",
        "plt.figure(figsize=(10, 7))\n",
        "\n",
        "# Plot the decision boundaries\n",
        "plt.subplot(111)\n",
        "x_min, x_max = X[:, 0].min() - 1, X[:, 0].max() + 1\n",
        "y_min, y_max = X[:, 1].min() - 1, X[:, 1].max() + 1\n",
        "xx, yy = np.meshgrid(\n",
        "    np.arange(x_min, x_max, plot_step), np.arange(y_min, y_max, plot_step)\n",
        ")\n",
        "\n",
        "# Background\n",
        "Z = bdt.predict(np.c_[xx.ravel(), yy.ravel()])\n",
        "Z = Z.reshape(xx.shape)\n",
        "cs = plt.contourf(xx, yy, Z, cmap = plt.cm.twilight_r)\n",
        "plt.axis(\"tight\")\n",
        "\n",
        "# Plot the training points\n",
        "for i, n, c in zip(range(2), class_names, plot_colors):\n",
        "    idx = np.where(y == i)\n",
        "    plt.scatter(\n",
        "        X[idx, 0],\n",
        "        X[idx, 1],\n",
        "        c = c,\n",
        "        cmap = plt.cm.twilight_r,\n",
        "        s = 20,\n",
        "        edgecolor = \"k\",\n",
        "        label = n\n",
        "    )\n",
        "\n",
        "plt.xlim(x_min, x_max)\n",
        "plt.ylim(y_min, y_max)\n",
        "plt.legend(loc = \"upper right\")\n",
        "plt.title(\"Decision Boundary\")\n",
        "\n",
        "plt.show()"
      ]
    }
  ],
  "metadata": {
    "colab": {
      "collapsed_sections": [],
      "name": "Adaboost.ipynb",
      "provenance": [],
      "authorship_tag": "ABX9TyOtEb/kDHvhNoqaBB5l02f2",
      "include_colab_link": true
    },
    "kernelspec": {
      "display_name": "Python 3",
      "name": "python3"
    },
    "language_info": {
      "name": "python"
    }
  },
  "nbformat": 4,
  "nbformat_minor": 0
}